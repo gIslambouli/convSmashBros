{
 "cells": [
  {
   "cell_type": "code",
   "execution_count": null,
   "metadata": {},
   "outputs": [],
   "source": [
    "import pathlib\n",
    "import torchvision\n",
    "import torch\n",
    "from torchvision import transforms\n",
    "import PIL\n",
    "import numpy as np\n",
    "from PIL import Image, ImageSequence, ImageOps\n",
    "from pathlib import Path\n",
    "import pandas as pd"
   ]
  },
  {
   "cell_type": "markdown",
   "metadata": {},
   "source": [
    "# Defining preprocessing functions"
   ]
  },
  {
   "cell_type": "markdown",
   "metadata": {},
   "source": [
    "Below, we define some functions for preprocessing grayscale images."
   ]
  },
  {
   "cell_type": "code",
   "execution_count": 2,
   "metadata": {},
   "outputs": [],
   "source": [
    "def invertedGrayscaleFrames(gif) -> list:\n",
    "    listOfFrames = []\n",
    "    for frame in ImageSequence.Iterator(gif):\n",
    "        listOfFrames.append(ImageOps.invert(frame.convert('L')))\n",
    "    return listOfFrames\n",
    "\n",
    "\n",
    "def processGrayscale(gif, targetSize, cropFactor):\n",
    "    listOfFrames = []\n",
    "    for frame in ImageSequence.Iterator(gif):\n",
    "        listOfFrames.append(ImageOps.invert(frame.convert('L')))\n",
    "    w, h = gif.size\n",
    "    cropLimits = [cropFactor*w, cropFactor*h, \n",
    "                        w-cropFactor*w, h-cropFactor*h]\n",
    "    return [frame.crop(cropLimits).resize(targetSize)\n",
    "                        for frame in listOfFrames]\n",
    "\n",
    "def setGrayFrames(imageList, frames):\n",
    "    if len(imageList) == frames:\n",
    "        return imageList\n",
    "    if len(imageList) > frames:\n",
    "        return imageList[0:frames]\n",
    "    size = imageList[0].size\n",
    "    whiteImage =  white_image = Image.new('L', size, 255)\n",
    "    return imageList+[whiteImage]*(frames - len(imageList))\n",
    "\n",
    "def setNumGrayTensors(listOfTensors, numTensors, tensorizor, grayVal: int ):\n",
    "    n = len(listOfTensors)\n",
    "    if n >= numTensors:\n",
    "        return listOfTensors[0:numTensors]\n",
    "    \n",
    "    size = (listOfTensors[0].shape[1], listOfTensors[0].shape[2])\n",
    "    solidTensor = tensorizor(Image.new('L', size, color=grayVal))\n",
    "    return listOfTensors+[solidTensor.float()]*(numTensors - n)"
   ]
  },
  {
   "cell_type": "markdown",
   "metadata": {},
   "source": [
    "Below, we define some functions for processing color images."
   ]
  },
  {
   "cell_type": "code",
   "execution_count": 3,
   "metadata": {},
   "outputs": [],
   "source": [
    "def listOfFrames(image):\n",
    "    listOfFrames = []\n",
    "    for frame in range(image.n_frames):\n",
    "        image.seek(frame)\n",
    "        listOfFrames.append(im.convert('RGB'))\n",
    "    return listOfFrames\n",
    "\n",
    "def resizeAndCropColor(listOfFrames, targetSize, cropFactor):\n",
    "    resizedFrames = []\n",
    "    w, h = listOfFrames[0].size\n",
    "    cropLimits = [cropFactor*w, cropFactor*h, \n",
    "                        w-cropFactor*w, h-cropFactor*h]\n",
    "    return [frame.crop(cropLimits).resize(targetSize)\n",
    "                        for frame in listOfFrames]\n",
    "\n",
    "def padOrChopFrames(listOfFrames, targetFrames):\n",
    "    n = len(listOfFrames)\n",
    "    if n >= targetFrames:\n",
    "        return listOfFrames[0:targetFrames]\n",
    "    else:\n",
    "        pad =Image.new('RGB', listOfFrames[0].size)\n",
    "        return [listOfFrames[i] if i < n else pad for i in range(targetFrames)]\n",
    "\n",
    "def mirrorFrames(listOfFrames):\n",
    "    return [ImageOps.mirror(frame) for frame in listOfFrames]\n",
    "\n",
    "def tensorizeFrames(tensorizor, listOfFrames):\n",
    "    return [tensorizor(frame) for frame in listOfFrames]"
   ]
  },
  {
   "cell_type": "markdown",
   "metadata": {},
   "source": [
    "## The following turns raw images into processed images and saves them"
   ]
  },
  {
   "cell_type": "markdown",
   "metadata": {},
   "source": [
    "First we decide on a path to a folder where we will save our processed images."
   ]
  },
  {
   "cell_type": "code",
   "execution_count": 4,
   "metadata": {},
   "outputs": [],
   "source": [
    "homeDir = Path()\n",
    "processedGrayscaleImageFolder = 'processedGrayscaleImages'\n",
    "proceessedColorImageFolder = 'processedColorImages'\n",
    "\n",
    "processedGrayscaleImageDir = homeDir / processedGrayscaleImageFolder\n",
    "processedColorImageDir = homeDir / proceessedColorImageFolder\n",
    "\n",
    "processedGrayscaleImageDir.resolve().mkdir(parents=True, exist_ok=True)\n",
    "processedColorImageDir.resolve().mkdir(parents=True, exist_ok=True)\n",
    "\n",
    "rawImageFolder = 'rawImages'\n",
    "rawImageDir = homeDir / rawImageFolder"
   ]
  },
  {
   "cell_type": "markdown",
   "metadata": {},
   "source": [
    "Let's process our grayscale images."
   ]
  },
  {
   "cell_type": "code",
   "execution_count": 33,
   "metadata": {},
   "outputs": [],
   "source": [
    "imagizer = transforms.ToPILImage()\n",
    "tensorizor = transforms.PILToTensor()\n",
    "\n",
    "charMoveTensor = []\n",
    "for char in rawImageDir.iterdir():\n",
    "    charName = char.parts[-1]\n",
    "    for move in char.iterdir():\n",
    "        moveName = move.parts[-1].split('.')[0]\n",
    "        listOfTensors = []\n",
    "        im = Image.open(move)\n",
    "        for frame in ImageSequence.Iterator(im):\n",
    "            listOfTensors.append(tensorizor(frame.convert('L')))\n",
    "        listOfTensors = setNumGrayTensors(listOfTensors, 60, tensorizor, 255)\n",
    "        concatTensor = torch.stack(listOfTensors, dim=1).float()\n",
    "        charMoveTensor.append([charName, moveName, concatTensor])"
   ]
  },
  {
   "cell_type": "markdown",
   "metadata": {},
   "source": [
    "Now lets process our color images. For each image we will resize, scale, and crop it, and also add the mirror image to the dataset for some extra training data."
   ]
  },
  {
   "cell_type": "code",
   "execution_count": 8,
   "metadata": {},
   "outputs": [],
   "source": [
    "imagizer = transforms.ToPILImage()\n",
    "tensorizor = transforms.PILToTensor()\n",
    "\n",
    "colorData = []\n",
    "\n",
    "for char in rawImageDir.iterdir():\n",
    "    charName = char.parts[-1]\n",
    "    for move in char.iterdir():\n",
    "        moveName = move.parts[-1].split('.')[0]\n",
    "        im = Image.open(move)\n",
    "        regImFrames = padOrChopFrames(\n",
    "                                        resizeAndCropColor(\n",
    "                                            listOfFrames(im), \n",
    "                                            [128, 128], .1), 60)\n",
    "        mirImFrames = mirrorFrames(regImFrames)\n",
    "        tensorizedReg = torch.stack([tensorizor(frame) for frame in regImFrames], dim=1).float()\n",
    "        tensorizedMir = torch.stack([tensorizor(frame) for frame in mirImFrames], dim=1).float()\n",
    "        colorData.append([charName, moveName, tensorizedReg])\n",
    "        moveName = moveName +'Mir'\n",
    "        colorData.append([charName, moveName, tensorizedMir])\n",
    "\n"
   ]
  },
  {
   "cell_type": "markdown",
   "metadata": {},
   "source": [
    "Let's make sure our outputs look right, the following line extracts the 10th frame of the 100th animation and displays it as an image."
   ]
  },
  {
   "cell_type": "code",
   "execution_count": 36,
   "metadata": {},
   "outputs": [
    {
     "data": {
      "image/jpeg": "[encoded data removed]",
      "image/png": "[encoded data removed]",
      "text/plain": [
       "<PIL.Image.Image image mode=RGB size=128x128>"
      ]
     },
     "execution_count": 36,
     "metadata": {},
     "output_type": "execute_result"
    }
   ],
   "source": [
    "imagizer(colorData[100][2][:, 10, : ,: ].to(torch.uint8))"
   ]
  },
  {
   "cell_type": "code",
   "execution_count": 10,
   "metadata": {},
   "outputs": [],
   "source": [
    "colorDf = pd.DataFrame(colorData, columns=['Name', 'Move', 'Tensor'])\n",
    "colorDf.to_pickle('colorData.pkl')"
   ]
  },
  {
   "cell_type": "markdown",
   "metadata": {},
   "source": [
    "# Merging grayscale images with the list of damages"
   ]
  },
  {
   "cell_type": "code",
   "execution_count": 5,
   "metadata": {},
   "outputs": [],
   "source": [
    "df1 = pd.DataFrame(charMoveTensor, columns=['Character', 'Move', 'Tensor'])\n",
    "df1.to_pickle('moveFrameData.pkl')"
   ]
  },
  {
   "cell_type": "markdown",
   "metadata": {},
   "source": [
    "Due to the way the filenames were stored on the website we scraped from, we are going to have to merge character names that were formatted in two different ways. Let's take a look at the formatting and see if we can discern a pattern."
   ]
  },
  {
   "cell_type": "code",
   "execution_count": 7,
   "metadata": {},
   "outputs": [
    {
     "name": "stdout",
     "output_type": "stream",
     "text": [
      "['bowser' 'captain_falcon' 'donkey_kong' 'dr._mario' 'falco' 'fox'\n",
      " 'ganondorf' 'ice_climbers' 'jigglypuff' 'kirby' 'link' 'luigi' 'mario'\n",
      " 'marth' 'mewtwo' 'mr._game_&_watch' 'ness' 'peach' 'pichu' 'pikachu'\n",
      " 'roy' 'samus' 'sheik' 'yoshi' 'young_link' 'zelda' 'zelda_old'] ['CAPTAIN FALCON' 'DONKEY KONG' 'DR. MARIO' 'FALCO' 'FOX' 'GANONDORF'\n",
      " 'ICE CLIMBERS' 'KIRBY' 'BOWSER' 'LINK' 'LUIGI' 'MARIO' 'MARTH' 'MEWTWO'\n",
      " 'MR. GAME & WATCH' 'NESS' 'PEACH' 'PICHU' 'PIKACHU' 'JIGGLYPUFF' 'ROY'\n",
      " 'SAMUS' 'SHEIK' 'YOSHI' 'YOUNG LINK' 'ZELDA']\n"
     ]
    }
   ],
   "source": [
    "df2 = pd.read_pickle('moveDamages.pkl')\n",
    "l1 = df1['Character'].unique()\n",
    "l2 = df2['Character'].unique()\n",
    "print(l1, l2)"
   ]
  },
  {
   "cell_type": "markdown",
   "metadata": {},
   "source": [
    "While the character name is structured enough to have an algorithmically created dictionary, the move names require a manually compiled dictionary."
   ]
  },
  {
   "cell_type": "code",
   "execution_count": null,
   "metadata": {},
   "outputs": [],
   "source": [
    "charNameDict = {lowerName: lowerName.upper().replace('_', ' ') for lowerName in l1}"
   ]
  },
  {
   "cell_type": "code",
   "execution_count": 9,
   "metadata": {},
   "outputs": [],
   "source": [
    "moveDictionary = {'jab1': 'Jab', 'jab2': 'Jab 2', 'jab3': 'Jab 3', 'ftilt': 'Forward Tilt', 'utilt': 'Up Tilt', 'dtilt': 'Down Tilt',\n",
    "                    'dattack': 'Dash Attack', 'fsmash': 'Forward Smash', 'usmash': 'Up Smash', 'dsmash': 'Down Smash', 'nair': 'Neutral Air',\n",
    "                    'fair': 'Forward Air', 'bair': 'Back Air', 'uair': 'Up Air', 'dair': 'Down Air', 'neutralb': 'Neutral B', 'a-neutralb': 'Aerial Neutral B',\n",
    "                    'sideb': 'Side B', 'a-sideb': 'Aerial Side B', 'upb': 'Up B', 'a-upb': 'Aerial Up B', 'downb': 'Down B', 'a-downb': 'Aerial Down B',\n",
    "                    'rapidjab': 'Rapid Jab'}"
   ]
  },
  {
   "cell_type": "code",
   "execution_count": 10,
   "metadata": {},
   "outputs": [],
   "source": [
    "df1['Character'] = df1['Character'].map(charNameDict)\n",
    "df1['Move'] = df1['Move'].map(moveDictionary)\n",
    "df2['Damage'] = df2['Damage'].astype('float32')"
   ]
  },
  {
   "cell_type": "markdown",
   "metadata": {},
   "source": [
    "We again need to sanitize the dataset from moves which deal 0 damage."
   ]
  },
  {
   "cell_type": "code",
   "execution_count": 11,
   "metadata": {},
   "outputs": [
    {
     "data": {
      "text/html": [
       "<div>\n",
       "<style scoped>\n",
       "    .dataframe tbody tr th:only-of-type {\n",
       "        vertical-align: middle;\n",
       "    }\n",
       "\n",
       "    .dataframe tbody tr th {\n",
       "        vertical-align: top;\n",
       "    }\n",
       "\n",
       "    .dataframe thead th {\n",
       "        text-align: right;\n",
       "    }\n",
       "</style>\n",
       "<table border=\"1\" class=\"dataframe\">\n",
       "  <thead>\n",
       "    <tr style=\"text-align: right;\">\n",
       "      <th></th>\n",
       "      <th>Character</th>\n",
       "      <th>Move</th>\n",
       "      <th>Damage</th>\n",
       "    </tr>\n",
       "  </thead>\n",
       "  <tbody>\n",
       "    <tr>\n",
       "      <th>508</th>\n",
       "      <td>ZELDA</td>\n",
       "      <td>Down B</td>\n",
       "      <td>0.0</td>\n",
       "    </tr>\n",
       "    <tr>\n",
       "      <th>262</th>\n",
       "      <td>MARTH</td>\n",
       "      <td>Side B</td>\n",
       "      <td>0.0</td>\n",
       "    </tr>\n",
       "    <tr>\n",
       "      <th>281</th>\n",
       "      <td>MEWTWO</td>\n",
       "      <td>Up B</td>\n",
       "      <td>0.0</td>\n",
       "    </tr>\n",
       "  </tbody>\n",
       "</table>\n",
       "</div>"
      ],
      "text/plain": [
       "    Character    Move  Damage\n",
       "508     ZELDA  Down B     0.0\n",
       "262     MARTH  Side B     0.0\n",
       "281    MEWTWO    Up B     0.0"
      ]
     },
     "execution_count": 11,
     "metadata": {},
     "output_type": "execute_result"
    }
   ],
   "source": [
    "df2.sort_values(by='Damage', ascending=True).head(3)"
   ]
  },
  {
   "cell_type": "code",
   "execution_count": 14,
   "metadata": {},
   "outputs": [
    {
     "data": {
      "text/plain": [
       "(498, 3)"
      ]
     },
     "execution_count": 14,
     "metadata": {},
     "output_type": "execute_result"
    }
   ],
   "source": [
    "df1.dropna(inplace=True)\n",
    "df1.shape"
   ]
  },
  {
   "cell_type": "code",
   "execution_count": 15,
   "metadata": {},
   "outputs": [
    {
     "data": {
      "text/html": [
       "<div>\n",
       "<style scoped>\n",
       "    .dataframe tbody tr th:only-of-type {\n",
       "        vertical-align: middle;\n",
       "    }\n",
       "\n",
       "    .dataframe tbody tr th {\n",
       "        vertical-align: top;\n",
       "    }\n",
       "\n",
       "    .dataframe thead th {\n",
       "        text-align: right;\n",
       "    }\n",
       "</style>\n",
       "<table border=\"1\" class=\"dataframe\">\n",
       "  <thead>\n",
       "    <tr style=\"text-align: right;\">\n",
       "      <th></th>\n",
       "      <th>Damage</th>\n",
       "    </tr>\n",
       "  </thead>\n",
       "  <tbody>\n",
       "    <tr>\n",
       "      <th>count</th>\n",
       "      <td>476.000000</td>\n",
       "    </tr>\n",
       "    <tr>\n",
       "      <th>mean</th>\n",
       "      <td>11.058824</td>\n",
       "    </tr>\n",
       "    <tr>\n",
       "      <th>std</th>\n",
       "      <td>10.654220</td>\n",
       "    </tr>\n",
       "    <tr>\n",
       "      <th>min</th>\n",
       "      <td>0.000000</td>\n",
       "    </tr>\n",
       "    <tr>\n",
       "      <th>25%</th>\n",
       "      <td>6.000000</td>\n",
       "    </tr>\n",
       "    <tr>\n",
       "      <th>50%</th>\n",
       "      <td>11.000000</td>\n",
       "    </tr>\n",
       "    <tr>\n",
       "      <th>75%</th>\n",
       "      <td>14.000000</td>\n",
       "    </tr>\n",
       "    <tr>\n",
       "      <th>max</th>\n",
       "      <td>200.000000</td>\n",
       "    </tr>\n",
       "  </tbody>\n",
       "</table>\n",
       "</div>"
      ],
      "text/plain": [
       "           Damage\n",
       "count  476.000000\n",
       "mean    11.058824\n",
       "std     10.654220\n",
       "min      0.000000\n",
       "25%      6.000000\n",
       "50%     11.000000\n",
       "75%     14.000000\n",
       "max    200.000000"
      ]
     },
     "execution_count": 15,
     "metadata": {},
     "output_type": "execute_result"
    }
   ],
   "source": [
    "merged_df = pd.merge(df1, df2, on=['Character', 'Move'], how='inner')\n",
    "merged_df.columns\n",
    "merged_df.describe()"
   ]
  },
  {
   "cell_type": "code",
   "execution_count": 16,
   "metadata": {},
   "outputs": [],
   "source": [
    "merged_df = merged_df.loc[(merged_df['Damage'] !=0)]\n",
    "merged_df.describe()"
   ]
  },
  {
   "cell_type": "markdown",
   "metadata": {},
   "source": [
    "Now let's address any large outliers."
   ]
  },
  {
   "cell_type": "code",
   "execution_count": 18,
   "metadata": {},
   "outputs": [
    {
     "data": {
      "text/html": [
       "<div>\n",
       "<style scoped>\n",
       "    .dataframe tbody tr th:only-of-type {\n",
       "        vertical-align: middle;\n",
       "    }\n",
       "\n",
       "    .dataframe tbody tr th {\n",
       "        vertical-align: top;\n",
       "    }\n",
       "\n",
       "    .dataframe thead th {\n",
       "        text-align: right;\n",
       "    }\n",
       "</style>\n",
       "<table border=\"1\" class=\"dataframe\">\n",
       "  <thead>\n",
       "    <tr style=\"text-align: right;\">\n",
       "      <th></th>\n",
       "      <th>Character</th>\n",
       "      <th>Move</th>\n",
       "      <th>Damage</th>\n",
       "    </tr>\n",
       "  </thead>\n",
       "  <tbody>\n",
       "    <tr>\n",
       "      <th>285</th>\n",
       "      <td>MR. GAME &amp; WATCH</td>\n",
       "      <td>Down B</td>\n",
       "      <td>200.0</td>\n",
       "    </tr>\n",
       "    <tr>\n",
       "      <th>374</th>\n",
       "      <td>ROY</td>\n",
       "      <td>Neutral B</td>\n",
       "      <td>50.0</td>\n",
       "    </tr>\n",
       "    <tr>\n",
       "      <th>312</th>\n",
       "      <td>NESS</td>\n",
       "      <td>Neutral B</td>\n",
       "      <td>36.0</td>\n",
       "    </tr>\n",
       "    <tr>\n",
       "      <th>132</th>\n",
       "      <td>GANONDORF</td>\n",
       "      <td>Neutral B</td>\n",
       "      <td>34.0</td>\n",
       "    </tr>\n",
       "    <tr>\n",
       "      <th>54</th>\n",
       "      <td>DONKEY KONG</td>\n",
       "      <td>Neutral B</td>\n",
       "      <td>30.0</td>\n",
       "    </tr>\n",
       "  </tbody>\n",
       "</table>\n",
       "</div>"
      ],
      "text/plain": [
       "            Character       Move  Damage\n",
       "285  MR. GAME & WATCH     Down B   200.0\n",
       "374               ROY  Neutral B    50.0\n",
       "312              NESS  Neutral B    36.0\n",
       "132         GANONDORF  Neutral B    34.0\n",
       "54        DONKEY KONG  Neutral B    30.0"
      ]
     },
     "execution_count": 18,
     "metadata": {},
     "output_type": "execute_result"
    }
   ],
   "source": [
    "merged_df.drop('Tensor', axis=1).sort_values(by= 'Damage', ascending=False).head()"
   ]
  },
  {
   "cell_type": "code",
   "execution_count": null,
   "metadata": {},
   "outputs": [],
   "source": [
    "merged_df = merged_df.drop(285)\n",
    "merged_df = merged_df.reset_index()"
   ]
  },
  {
   "cell_type": "markdown",
   "metadata": {},
   "source": [
    "We can now export the dataset."
   ]
  },
  {
   "cell_type": "code",
   "execution_count": 24,
   "metadata": {},
   "outputs": [],
   "source": [
    "merged_df.to_pickle('processedDataset.pkl')"
   ]
  }
 ],
 "metadata": {
  "kernelspec": {
   "display_name": "Python 3",
   "language": "python",
   "name": "python3"
  },
  "language_info": {
   "codemirror_mode": {
    "name": "ipython",
    "version": 3
   },
   "file_extension": ".py",
   "mimetype": "text/x-python",
   "name": "python",
   "nbconvert_exporter": "python",
   "pygments_lexer": "ipython3",
   "version": "3.11.9"
  }
 },
 "nbformat": 4,
 "nbformat_minor": 2
}
